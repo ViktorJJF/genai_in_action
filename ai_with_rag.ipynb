{
 "cells": [
  {
   "cell_type": "code",
   "execution_count": 52,
   "metadata": {},
   "outputs": [
    {
     "data": {
      "text/markdown": [
       "Perros vs gatos: la ciencia demostró qué animal es más inteligente - Infobae\n",
       "\n",
       "14 Nov, 2024Buscar en todo el sitioArgentinaColombiaEspañaMéxicoPerúEstados UnidosMundoVenezuelaThe economistThe Washington PostRealezaOpiniónÚltimas NoticiasEntretenimientoDeportesTendenciasTecnoCulturaMalditos NerdsViralesSaludPodcastsNewsletters;BienvenidoPor favor, ingresa a tu cuenta.REGISTRARMEINICIAR SESIÓNÚltimas NoticiasPolíticaEconomíaDólar hoyDeportesSociedadPolicialesNewslettersAnimales y MascotasPerros vs gatos: la ciencia demostró qué animal es más inteligenteInvestigadores de la Universidad Eotvos Loránd de Hungría, “enfrentaron” a ambas especies en una serie de pruebas para acabar con el debatePor  Luis A. Flores22 Ene, 2024 11:28 a.m. ESTGuardarInvestigadores de la Universidad Eotvos Loránd de Hungría buscaron terminar con este “enfrentamiento” realizando una serie de pruebas. (Imagen ilustrativa Infobae)El debate sobre si los gatos son más inteligentes que los perros existe desde hace mucho tiempo, los dueños exponen sus argumentos para defender a sus mascotas favoritas, sin embargo, éstos casi siempre carecen de una base científica sólida.Investigadores de la Universidad Eotvos Loránd de Hungría buscaron terminar con este “enfrentamiento” y compararon la inteligencia entre ambas especies en una serie de pruebas bajo las mismas condiciones.Las sorprendentes conclusiones revelaron que la respuesta para saber si son más inteligentes los perros o los gatos varía de acuerdo a sus necesidades, y que las herramientas con las que cuentan ambas especies hacen que cada una sea la más inteligente en su propio juego.Los motivos detrás de la inteligenciaEl estudio analizó la respuesta de los animales ante diferentes señalizaciones. (Imagen ilustrativa Infobae)El estudio realizado por Atila Salamón, Stefania Uccheddu, Melitta Csepregi, Ádám Miklósi y Marta Gácsi, investigadores de etología comparada en conjunto con el departamento de etología de la Universidad Eotvos Loránd de Hungría comparó a los perros, quienes según los científicos, moldearon su inteligencia alrededor de su entorno social y desarrollaron un conjunto de habilidades sociocognitivas compatibles con los humanos.Investigadores indicaron en el estudio publicado en la revista científica Nature en octubre de 2023, que los caninos son capaces de “confiar” en gestos como girar la cabeza, inclinarse, orientar el cuerpo y señalar con el dedo, por lo que dependen de señas humanas.“Los gatos generalmente están desatendidos en sus actividades al aire libre, mientras que los perros pueden participar en algún tipo de actividad con su dueño cuando están fuera de casa”, s, coautora del estudio. La afirmación expone que la adaptación de los felinos al ambiente humano parece menos evidente.Tras su domesticación, ambas especies cuentan con diferencias “importantes”, ya que los perros se mantienen como mascotas de interior o exterior, mientras que la mayoría de gatos no suelen tener acceso a las áreas fuera del hogar.“Los gatos generalmente están desatendidos en sus actividades al aire libre, mientras que los perros pueden participar en algún tipo de actividad con su dueño cuando están fuera de casa”, se lee en el artículo. La afirmación expone que la adaptación de los felinos al ambiente humano parece menos evidente.Los científicos evaluaron la capacidad de prueba de los gatos tanto en laboratorio como en casa, mientras que los perros únicamente fueron estudiados en un ambiente controlado fuera de su hogar.El estudio consistió en ver la reacción de ambas especies después de que una experimentadora le señalara un plato con comida oculta después de llamar su atención con sonidos cortos como golpear suavemente el suelo o la pared y se clasificaron tres tipos de resultados: correcto, incorrecto y sin elección.El resultado correcto dependía de que el animal se acercara directamente hacia el objeto al que la experimentadora apuntaba, el incorrecto era el producto de que los estudiados escogieran el recipiente que no estaba siendo señalado mientras que no responder ante las señalizaciones era considerado como “sin elección”.¿Quién es más inteligente?Ambas especies son las más inteligentes en sus propios ámbitos gracias a diferentes adaptaciones y estímulos. (Imagen ilustrativa Infobae)En el laboratorio, todos los perros tomaron una decisión en al menos la mitad de las pruebas, mientras que 15 de 33 gatos hicieron lo mismo. En un ambiente hogareño, 14 de 19 felinos hicieron una elección.Tras repetir la prueba varias veces, los científicos llegaron a la conclusión de que la respuesta dependía de las oportunidades y necesidades de la especie, ya que ambas son la más inteligente en su propio ámbito.“Nuestros hallazgos proporcionan evidencia directa de que la capacidad de prueba de los perros es significativamente mejor en una prueba realizada en un ambiente de laboratorio que la de los gatos, incluso si los felinos pasaron por una habituación previa”, se lee en la publicación. Sin embargo, “los gatos parecen ser capaces de confiar en los gestos humanos distales si están motivados para elegir”.Compartir nota:GuardarTemas Relacionadosperrosgatosrazas de perrosmascotasanimalesÚltimas NoticiasEl amor entra por la puerta, la conmovedora adopción de una familia de 8 gatosUn joven decidió adoptar a una familia de gatos, un acto que transformó drásticamente el destino de estos animales y del propio cuidadorEntre la medicina tradicional y productos de lujo, ¿Cuál es el destino de los grandes felinos en Sudáfrica?Una de las especies más amenazada es el tigre, pues no existen leyes o registros que ayuden a impedir el comercio no regulado a AsiaDe la prohibición a la regulación, el desafío de Singapur para regular la presencia de gatos en casasUn cambio legal que no permitía a felinos habitar viviendas públicas en el país ha cambiado; sin embargo la nueva normativa trae confusión entre quienes buscan integrarse a este nuevo escenarioQué es la plaga de procesionaria del pino y por qué afecta la salud de nuestras mascotasAlgunos de los síntomas que desencadena el contacto con esta oruga son irritación, inflamación de las patas y vómitoLa triste historia de Óscar, un perrito abandonado quemado con aceite hirviendo por pedir comidaUn acto de crueldad hacia un perro en México ha generado intensas reacciones en redes sociales, donde se hace un llamado para encontrarle un hogarLo Último|ArgentinaLa historia de la primera jubilación de privilegio: el beneficiario la rechazó porque consideraba inmoral cobrarle al puebloBoca Juniors confirmó la lesión de Miguel Merentiel: cuánto demandará su recuperación La noche consagratoria del “Alien” Wembanyama en la NBA: la marca nunca antes vista que logró tras anotar 50 puntosPresupuesto 2025: el oficialismo insiste con el proyecto original, UP presenta el propio y el resto busca darles tiempo a los gobernadores para negociarEl golden look de María Becerra en la previa de los Latin Grammy: escote y transparencias para una noche con brillo propioTe Recomendamos1La emotiva historia de Happy, la gatita abandonada por maullar demasiado2Equilibrando el ecosistema, cómo la caza de ciervos se volvió una necesidad en los bosques de Inglaterra3Winston, la emotiva historia del perro que fue rescatado de una isla abandonada en Belice4Boeier, la tortuga rescatada en Países Bajos que vuelve a su hogar tras un esfuerzo internacional5Los secretos de los veterinarios que garantizan una vida saludable a los gatos de Palacio NacionalÚLTIMAS NOTICIAS  La noche consagratoria del “Alien” Wembanyama en la NBA: la marca nunca antes vista que logró tras anotar 50 puntosEncuentran una nave espacial en Marte: qué tecnología usaron los expertos para el hallazgoPresupuesto 2025: el oficialismo insiste con el proyecto original, UP presenta el propio y el resto busca darles tiempo a los gobernadores para negociarFIFA dio a conocer cómo será el innovador trofeo que se entregará al campeón del nuevo Mundial de Clubes en 2025Llevaron una escalera a la casa de un jubilado, entraron por una ventana y lo mataronINFOBAE AMÉRICA Se agrava la crisis energética en Cuba: la isla tendrá apagones simultáneos en el 44% de su territorio este jueves Israel confirmó que bombardeó edificios militares y cuarteles de la Yihad Islámica en SiriaLíderes de América Latina felicitaron a Marco Rubio por su nombramiento como secretario de Estado norteamericano“Isla familia”, el crudo documental que muestra cómo es hacer periodismo y escapar de la represión en Cuba“Mamá, ven a buscarme”: el dramático pedido de los niños adoptados que no pueden salir de HaitíTELESHOW El golden look de María Becerra en la previa de los Latin Grammy: escote y transparencias para una noche con brillo propioSe entregan los Latin Grammy 2024: quiénes son los argentinos nominados y cómo ver la ceremoniaClaudio Morgado y su esposa, Vanesa Moreno, imputados en un escándalo por estafa: los cargos que deberán enfrentarEsteban Lamothe confirmó su relación con Débora Nishimoto, su compañera en Envidiosa: “Es amor”El gesto de Fito Páez con Hernán Coronel, cantante de Mala Fama, tras finalizar su show: besos y palabras de cariñoSeguinos:SeccionesAméricaColombiaEspañaMéxicoRSSPerúÚltimas NoticiasContáctenosContacto comercialMedia KitEmpleoLegalesTérminos y CondicionesPolítica de PrivacidadTodos Los Derechos Reservados © 2024 Infobae"
      ],
      "text/plain": [
       "<IPython.core.display.Markdown object>"
      ]
     },
     "metadata": {},
     "output_type": "display_data"
    }
   ],
   "source": [
    "import bs4\n",
    "from IPython.display import Markdown, display\n",
    "from langchain_community.document_loaders import WebBaseLoader\n",
    "\n",
    "# Only keep post title, headers, and content from the full HTML.\n",
    "bs4_strainer = bs4.SoupStrainer(class_=(\"post-title\", \"post-header\", \"post-content\"))\n",
    "loader = WebBaseLoader(\n",
    "    web_paths=(\"https://www.infobae.com/mascotas/2024/01/20/perros-vs-gatos-la-ciencia-demostro-que-animal-es-mas-inteligente/\",),\n",
    ")\n",
    "docs = loader.load()\n",
    "\n",
    "display(Markdown(docs[0].page_content))"
   ]
  },
  {
   "cell_type": "code",
   "execution_count": 22,
   "metadata": {},
   "outputs": [
    {
     "name": "stdout",
     "output_type": "stream",
     "text": [
      "page_content='Perros vs gatos: la ciencia demostró qué animal es más inteligente - Infobae' metadata={'source': 'https://www.infobae.com/mascotas/2024/01/20/perros-vs-gatos-la-ciencia-demostro-que-animal-es-mas-inteligente/', 'title': 'Perros vs gatos: la ciencia demostró qué animal es más inteligente - Infobae', 'description': 'Investigadores de la Universidad Eotvos Loránd de Hungría, “enfrentaron” a ambas especies en una serie de pruebas para acabar con el debate', 'language': 'es', 'start_index': 0}\n",
      "{'source': 'https://www.infobae.com/mascotas/2024/01/20/perros-vs-gatos-la-ciencia-demostro-que-animal-es-mas-inteligente/', 'title': 'Perros vs gatos: la ciencia demostró qué animal es más inteligente - Infobae', 'description': 'Investigadores de la Universidad Eotvos Loránd de Hungría, “enfrentaron” a ambas especies en una serie de pruebas para acabar con el debate', 'language': 'es', 'start_index': 0}\n",
      "page_content='14 Nov, 2024Buscar en todo el sitioArgentinaColombiaEspañaMéxicoPerúEstados UnidosMundoVenezuelaThe economistThe Washington PostRealezaOpiniónÚltimas NoticiasEntretenimientoDeportesTendenciasTecnoCulturaMalditos NerdsViralesSaludPodcastsNewsletters;BienvenidoPor favor, ingresa a tu cuenta.REGISTRARMEINICIAR SESIÓNÚltimas NoticiasPolíticaEconomíaDólar hoyDeportesSociedadPolicialesNewslettersAnimales y MascotasPerros vs gatos: la ciencia demostró qué animal es más inteligenteInvestigadores de la Universidad Eotvos Loránd de Hungría, “enfrentaron” a ambas especies en una serie de pruebas para acabar con el debatePor  Luis A. Flores22 Ene, 2024 11:28 a.m. ESTGuardarInvestigadores de la Universidad Eotvos Loránd de Hungría buscaron terminar con este “enfrentamiento” realizando una serie de pruebas. (Imagen ilustrativa Infobae)El debate sobre si los gatos son más inteligentes que los perros existe desde hace mucho tiempo, los dueños exponen sus argumentos para defender a sus mascotas' metadata={'source': 'https://www.infobae.com/mascotas/2024/01/20/perros-vs-gatos-la-ciencia-demostro-que-animal-es-mas-inteligente/', 'title': 'Perros vs gatos: la ciencia demostró qué animal es más inteligente - Infobae', 'description': 'Investigadores de la Universidad Eotvos Loránd de Hungría, “enfrentaron” a ambas especies en una serie de pruebas para acabar con el debate', 'language': 'es', 'start_index': 78}\n",
      "{'source': 'https://www.infobae.com/mascotas/2024/01/20/perros-vs-gatos-la-ciencia-demostro-que-animal-es-mas-inteligente/', 'title': 'Perros vs gatos: la ciencia demostró qué animal es más inteligente - Infobae', 'description': 'Investigadores de la Universidad Eotvos Loránd de Hungría, “enfrentaron” a ambas especies en una serie de pruebas para acabar con el debate', 'language': 'es', 'start_index': 78}\n",
      "page_content='de pruebas. (Imagen ilustrativa Infobae)El debate sobre si los gatos son más inteligentes que los perros existe desde hace mucho tiempo, los dueños exponen sus argumentos para defender a sus mascotas favoritas, sin embargo, éstos casi siempre carecen de una base científica sólida.Investigadores de la Universidad Eotvos Loránd de Hungría buscaron terminar con este “enfrentamiento” y compararon la inteligencia entre ambas especies en una serie de pruebas bajo las mismas condiciones.Las sorprendentes conclusiones revelaron que la respuesta para saber si son más inteligentes los perros o los gatos varía de acuerdo a sus necesidades, y que las herramientas con las que cuentan ambas especies hacen que cada una sea la más inteligente en su propio juego.Los motivos detrás de la inteligenciaEl estudio analizó la respuesta de los animales ante diferentes señalizaciones. (Imagen ilustrativa Infobae)El estudio realizado por Atila Salamón, Stefania Uccheddu, Melitta Csepregi, Ádám Miklósi y Marta' metadata={'source': 'https://www.infobae.com/mascotas/2024/01/20/perros-vs-gatos-la-ciencia-demostro-que-animal-es-mas-inteligente/', 'title': 'Perros vs gatos: la ciencia demostró qué animal es más inteligente - Infobae', 'description': 'Investigadores de la Universidad Eotvos Loránd de Hungría, “enfrentaron” a ambas especies en una serie de pruebas para acabar con el debate', 'language': 'es', 'start_index': 871}\n",
      "{'source': 'https://www.infobae.com/mascotas/2024/01/20/perros-vs-gatos-la-ciencia-demostro-que-animal-es-mas-inteligente/', 'title': 'Perros vs gatos: la ciencia demostró qué animal es más inteligente - Infobae', 'description': 'Investigadores de la Universidad Eotvos Loránd de Hungría, “enfrentaron” a ambas especies en una serie de pruebas para acabar con el debate', 'language': 'es', 'start_index': 871}\n",
      "page_content='analizó la respuesta de los animales ante diferentes señalizaciones. (Imagen ilustrativa Infobae)El estudio realizado por Atila Salamón, Stefania Uccheddu, Melitta Csepregi, Ádám Miklósi y Marta Gácsi, investigadores de etología comparada en conjunto con el departamento de etología de la Universidad Eotvos Loránd de Hungría comparó a los perros, quienes según los científicos, moldearon su inteligencia alrededor de su entorno social y desarrollaron un conjunto de habilidades sociocognitivas compatibles con los humanos.Investigadores indicaron en el estudio publicado en la revista científica Nature en octubre de 2023, que los caninos son capaces de “confiar” en gestos como girar la cabeza, inclinarse, orientar el cuerpo y señalar con el dedo, por lo que dependen de señas humanas.“Los gatos generalmente están desatendidos en sus actividades al aire libre, mientras que los perros pueden participar en algún tipo de actividad con su dueño cuando están fuera de casa”, s, coautora del' metadata={'source': 'https://www.infobae.com/mascotas/2024/01/20/perros-vs-gatos-la-ciencia-demostro-que-animal-es-mas-inteligente/', 'title': 'Perros vs gatos: la ciencia demostró qué animal es más inteligente - Infobae', 'description': 'Investigadores de la Universidad Eotvos Loránd de Hungría, “enfrentaron” a ambas especies en una serie de pruebas para acabar con el debate', 'language': 'es', 'start_index': 1675}\n",
      "{'source': 'https://www.infobae.com/mascotas/2024/01/20/perros-vs-gatos-la-ciencia-demostro-que-animal-es-mas-inteligente/', 'title': 'Perros vs gatos: la ciencia demostró qué animal es más inteligente - Infobae', 'description': 'Investigadores de la Universidad Eotvos Loránd de Hungría, “enfrentaron” a ambas especies en una serie de pruebas para acabar con el debate', 'language': 'es', 'start_index': 1675}\n",
      "page_content='gatos generalmente están desatendidos en sus actividades al aire libre, mientras que los perros pueden participar en algún tipo de actividad con su dueño cuando están fuera de casa”, s, coautora del estudio. La afirmación expone que la adaptación de los felinos al ambiente humano parece menos evidente.Tras su domesticación, ambas especies cuentan con diferencias “importantes”, ya que los perros se mantienen como mascotas de interior o exterior, mientras que la mayoría de gatos no suelen tener acceso a las áreas fuera del hogar.“Los gatos generalmente están desatendidos en sus actividades al aire libre, mientras que los perros pueden participar en algún tipo de actividad con su dueño cuando están fuera de casa”, se lee en el artículo. La afirmación expone que la adaptación de los felinos al ambiente humano parece menos evidente.Los científicos evaluaron la capacidad de prueba de los gatos tanto en laboratorio como en casa, mientras que los perros únicamente fueron estudiados en un' metadata={'source': 'https://www.infobae.com/mascotas/2024/01/20/perros-vs-gatos-la-ciencia-demostro-que-animal-es-mas-inteligente/', 'title': 'Perros vs gatos: la ciencia demostró qué animal es más inteligente - Infobae', 'description': 'Investigadores de la Universidad Eotvos Loránd de Hungría, “enfrentaron” a ambas especies en una serie de pruebas para acabar con el debate', 'language': 'es', 'start_index': 2468}\n",
      "{'source': 'https://www.infobae.com/mascotas/2024/01/20/perros-vs-gatos-la-ciencia-demostro-que-animal-es-mas-inteligente/', 'title': 'Perros vs gatos: la ciencia demostró qué animal es más inteligente - Infobae', 'description': 'Investigadores de la Universidad Eotvos Loránd de Hungría, “enfrentaron” a ambas especies en una serie de pruebas para acabar con el debate', 'language': 'es', 'start_index': 2468}\n",
      "page_content='al ambiente humano parece menos evidente.Los científicos evaluaron la capacidad de prueba de los gatos tanto en laboratorio como en casa, mientras que los perros únicamente fueron estudiados en un ambiente controlado fuera de su hogar.El estudio consistió en ver la reacción de ambas especies después de que una experimentadora le señalara un plato con comida oculta después de llamar su atención con sonidos cortos como golpear suavemente el suelo o la pared y se clasificaron tres tipos de resultados: correcto, incorrecto y sin elección.El resultado correcto dependía de que el animal se acercara directamente hacia el objeto al que la experimentadora apuntaba, el incorrecto era el producto de que los estudiados escogieran el recipiente que no estaba siendo señalado mientras que no responder ante las señalizaciones era considerado como “sin elección”.¿Quién es más inteligente?Ambas especies son las más inteligentes en sus propios ámbitos gracias a diferentes adaptaciones y estímulos.' metadata={'source': 'https://www.infobae.com/mascotas/2024/01/20/perros-vs-gatos-la-ciencia-demostro-que-animal-es-mas-inteligente/', 'title': 'Perros vs gatos: la ciencia demostró qué animal es más inteligente - Infobae', 'description': 'Investigadores de la Universidad Eotvos Loránd de Hungría, “enfrentaron” a ambas especies en una serie de pruebas para acabar con el debate', 'language': 'es', 'start_index': 3266}\n",
      "{'source': 'https://www.infobae.com/mascotas/2024/01/20/perros-vs-gatos-la-ciencia-demostro-que-animal-es-mas-inteligente/', 'title': 'Perros vs gatos: la ciencia demostró qué animal es más inteligente - Infobae', 'description': 'Investigadores de la Universidad Eotvos Loránd de Hungría, “enfrentaron” a ambas especies en una serie de pruebas para acabar con el debate', 'language': 'es', 'start_index': 3266}\n",
      "page_content='ante las señalizaciones era considerado como “sin elección”.¿Quién es más inteligente?Ambas especies son las más inteligentes en sus propios ámbitos gracias a diferentes adaptaciones y estímulos. (Imagen ilustrativa Infobae)En el laboratorio, todos los perros tomaron una decisión en al menos la mitad de las pruebas, mientras que 15 de 33 gatos hicieron lo mismo. En un ambiente hogareño, 14 de 19 felinos hicieron una elección.Tras repetir la prueba varias veces, los científicos llegaron a la conclusión de que la respuesta dependía de las oportunidades y necesidades de la especie, ya que ambas son la más inteligente en su propio ámbito.“Nuestros hallazgos proporcionan evidencia directa de que la capacidad de prueba de los perros es significativamente mejor en una prueba realizada en un ambiente de laboratorio que la de los gatos, incluso si los felinos pasaron por una habituación previa”, se lee en la publicación. Sin embargo, “los gatos parecen ser capaces de confiar en los gestos' metadata={'source': 'https://www.infobae.com/mascotas/2024/01/20/perros-vs-gatos-la-ciencia-demostro-que-animal-es-mas-inteligente/', 'title': 'Perros vs gatos: la ciencia demostró qué animal es más inteligente - Infobae', 'description': 'Investigadores de la Universidad Eotvos Loránd de Hungría, “enfrentaron” a ambas especies en una serie de pruebas para acabar con el debate', 'language': 'es', 'start_index': 4064}\n",
      "{'source': 'https://www.infobae.com/mascotas/2024/01/20/perros-vs-gatos-la-ciencia-demostro-que-animal-es-mas-inteligente/', 'title': 'Perros vs gatos: la ciencia demostró qué animal es más inteligente - Infobae', 'description': 'Investigadores de la Universidad Eotvos Loránd de Hungría, “enfrentaron” a ambas especies en una serie de pruebas para acabar con el debate', 'language': 'es', 'start_index': 4064}\n",
      "page_content='ambiente de laboratorio que la de los gatos, incluso si los felinos pasaron por una habituación previa”, se lee en la publicación. Sin embargo, “los gatos parecen ser capaces de confiar en los gestos humanos distales si están motivados para elegir”.Compartir nota:GuardarTemas Relacionadosperrosgatosrazas de perrosmascotasanimalesÚltimas NoticiasEl amor entra por la puerta, la conmovedora adopción de una familia de 8 gatosUn joven decidió adoptar a una familia de gatos, un acto que transformó drásticamente el destino de estos animales y del propio cuidadorEntre la medicina tradicional y productos de lujo, ¿Cuál es el destino de los grandes felinos en Sudáfrica?Una de las especies más amenazada es el tigre, pues no existen leyes o registros que ayuden a impedir el comercio no regulado a AsiaDe la prohibición a la regulación, el desafío de Singapur para regular la presencia de gatos en casasUn cambio legal que no permitía a felinos habitar viviendas públicas en el país ha cambiado; sin' metadata={'source': 'https://www.infobae.com/mascotas/2024/01/20/perros-vs-gatos-la-ciencia-demostro-que-animal-es-mas-inteligente/', 'title': 'Perros vs gatos: la ciencia demostró qué animal es más inteligente - Infobae', 'description': 'Investigadores de la Universidad Eotvos Loránd de Hungría, “enfrentaron” a ambas especies en una serie de pruebas para acabar con el debate', 'language': 'es', 'start_index': 4859}\n",
      "{'source': 'https://www.infobae.com/mascotas/2024/01/20/perros-vs-gatos-la-ciencia-demostro-que-animal-es-mas-inteligente/', 'title': 'Perros vs gatos: la ciencia demostró qué animal es más inteligente - Infobae', 'description': 'Investigadores de la Universidad Eotvos Loránd de Hungría, “enfrentaron” a ambas especies en una serie de pruebas para acabar con el debate', 'language': 'es', 'start_index': 4859}\n",
      "page_content='la prohibición a la regulación, el desafío de Singapur para regular la presencia de gatos en casasUn cambio legal que no permitía a felinos habitar viviendas públicas en el país ha cambiado; sin embargo la nueva normativa trae confusión entre quienes buscan integrarse a este nuevo escenarioQué es la plaga de procesionaria del pino y por qué afecta la salud de nuestras mascotasAlgunos de los síntomas que desencadena el contacto con esta oruga son irritación, inflamación de las patas y vómitoLa triste historia de Óscar, un perrito abandonado quemado con aceite hirviendo por pedir comidaUn acto de crueldad hacia un perro en México ha generado intensas reacciones en redes sociales, donde se hace un llamado para encontrarle un hogarLo Último|ArgentinaLa historia de la primera jubilación de privilegio: el beneficiario la rechazó porque consideraba inmoral cobrarle al puebloBoca Juniors confirmó la lesión de Miguel Merentiel: cuánto demandará su recuperación La noche consagratoria del' metadata={'source': 'https://www.infobae.com/mascotas/2024/01/20/perros-vs-gatos-la-ciencia-demostro-que-animal-es-mas-inteligente/', 'title': 'Perros vs gatos: la ciencia demostró qué animal es más inteligente - Infobae', 'description': 'Investigadores de la Universidad Eotvos Loránd de Hungría, “enfrentaron” a ambas especies en una serie de pruebas para acabar con el debate', 'language': 'es', 'start_index': 5662}\n",
      "{'source': 'https://www.infobae.com/mascotas/2024/01/20/perros-vs-gatos-la-ciencia-demostro-que-animal-es-mas-inteligente/', 'title': 'Perros vs gatos: la ciencia demostró qué animal es más inteligente - Infobae', 'description': 'Investigadores de la Universidad Eotvos Loránd de Hungría, “enfrentaron” a ambas especies en una serie de pruebas para acabar con el debate', 'language': 'es', 'start_index': 5662}\n",
      "page_content='de privilegio: el beneficiario la rechazó porque consideraba inmoral cobrarle al puebloBoca Juniors confirmó la lesión de Miguel Merentiel: cuánto demandará su recuperación La noche consagratoria del “Alien” Wembanyama en la NBA: la marca nunca antes vista que logró tras anotar 50 puntosPresupuesto 2025: el oficialismo insiste con el proyecto original, UP presenta el propio y el resto busca darles tiempo a los gobernadores para negociarEl golden look de María Becerra en la previa de los Latin Grammy: escote y transparencias para una noche con brillo propioTe Recomendamos1La emotiva historia de Happy, la gatita abandonada por maullar demasiado2Equilibrando el ecosistema, cómo la caza de ciervos se volvió una necesidad en los bosques de Inglaterra3Winston, la emotiva historia del perro que fue rescatado de una isla abandonada en Belice4Boeier, la tortuga rescatada en Países Bajos que vuelve a su hogar tras un esfuerzo internacional5Los secretos de los veterinarios que garantizan una' metadata={'source': 'https://www.infobae.com/mascotas/2024/01/20/perros-vs-gatos-la-ciencia-demostro-que-animal-es-mas-inteligente/', 'title': 'Perros vs gatos: la ciencia demostró qué animal es más inteligente - Infobae', 'description': 'Investigadores de la Universidad Eotvos Loránd de Hungría, “enfrentaron” a ambas especies en una serie de pruebas para acabar con el debate', 'language': 'es', 'start_index': 6455}\n",
      "{'source': 'https://www.infobae.com/mascotas/2024/01/20/perros-vs-gatos-la-ciencia-demostro-que-animal-es-mas-inteligente/', 'title': 'Perros vs gatos: la ciencia demostró qué animal es más inteligente - Infobae', 'description': 'Investigadores de la Universidad Eotvos Loránd de Hungría, “enfrentaron” a ambas especies en una serie de pruebas para acabar con el debate', 'language': 'es', 'start_index': 6455}\n",
      "page_content='fue rescatado de una isla abandonada en Belice4Boeier, la tortuga rescatada en Países Bajos que vuelve a su hogar tras un esfuerzo internacional5Los secretos de los veterinarios que garantizan una vida saludable a los gatos de Palacio NacionalÚLTIMAS NOTICIAS  La noche consagratoria del “Alien” Wembanyama en la NBA: la marca nunca antes vista que logró tras anotar 50 puntosEncuentran una nave espacial en Marte: qué tecnología usaron los expertos para el hallazgoPresupuesto 2025: el oficialismo insiste con el proyecto original, UP presenta el propio y el resto busca darles tiempo a los gobernadores para negociarFIFA dio a conocer cómo será el innovador trofeo que se entregará al campeón del nuevo Mundial de Clubes en 2025Llevaron una escalera a la casa de un jubilado, entraron por una ventana y lo mataronINFOBAE AMÉRICA Se agrava la crisis energética en Cuba: la isla tendrá apagones simultáneos en el 44% de su territorio este jueves Israel confirmó que bombardeó edificios militares y' metadata={'source': 'https://www.infobae.com/mascotas/2024/01/20/perros-vs-gatos-la-ciencia-demostro-que-animal-es-mas-inteligente/', 'title': 'Perros vs gatos: la ciencia demostró qué animal es más inteligente - Infobae', 'description': 'Investigadores de la Universidad Eotvos Loránd de Hungría, “enfrentaron” a ambas especies en una serie de pruebas para acabar con el debate', 'language': 'es', 'start_index': 7254}\n",
      "{'source': 'https://www.infobae.com/mascotas/2024/01/20/perros-vs-gatos-la-ciencia-demostro-que-animal-es-mas-inteligente/', 'title': 'Perros vs gatos: la ciencia demostró qué animal es más inteligente - Infobae', 'description': 'Investigadores de la Universidad Eotvos Loránd de Hungría, “enfrentaron” a ambas especies en una serie de pruebas para acabar con el debate', 'language': 'es', 'start_index': 7254}\n",
      "page_content='y lo mataronINFOBAE AMÉRICA Se agrava la crisis energética en Cuba: la isla tendrá apagones simultáneos en el 44% de su territorio este jueves Israel confirmó que bombardeó edificios militares y cuarteles de la Yihad Islámica en SiriaLíderes de América Latina felicitaron a Marco Rubio por su nombramiento como secretario de Estado norteamericano“Isla familia”, el crudo documental que muestra cómo es hacer periodismo y escapar de la represión en Cuba“Mamá, ven a buscarme”: el dramático pedido de los niños adoptados que no pueden salir de HaitíTELESHOW El golden look de María Becerra en la previa de los Latin Grammy: escote y transparencias para una noche con brillo propioSe entregan los Latin Grammy 2024: quiénes son los argentinos nominados y cómo ver la ceremoniaClaudio Morgado y su esposa, Vanesa Moreno, imputados en un escándalo por estafa: los cargos que deberán enfrentarEsteban Lamothe confirmó su relación con Débora Nishimoto, su compañera en Envidiosa: “Es amor”El gesto de Fito' metadata={'source': 'https://www.infobae.com/mascotas/2024/01/20/perros-vs-gatos-la-ciencia-demostro-que-animal-es-mas-inteligente/', 'title': 'Perros vs gatos: la ciencia demostró qué animal es más inteligente - Infobae', 'description': 'Investigadores de la Universidad Eotvos Loránd de Hungría, “enfrentaron” a ambas especies en una serie de pruebas para acabar con el debate', 'language': 'es', 'start_index': 8057}\n",
      "{'source': 'https://www.infobae.com/mascotas/2024/01/20/perros-vs-gatos-la-ciencia-demostro-que-animal-es-mas-inteligente/', 'title': 'Perros vs gatos: la ciencia demostró qué animal es más inteligente - Infobae', 'description': 'Investigadores de la Universidad Eotvos Loránd de Hungría, “enfrentaron” a ambas especies en una serie de pruebas para acabar con el debate', 'language': 'es', 'start_index': 8057}\n",
      "page_content='Vanesa Moreno, imputados en un escándalo por estafa: los cargos que deberán enfrentarEsteban Lamothe confirmó su relación con Débora Nishimoto, su compañera en Envidiosa: “Es amor”El gesto de Fito Páez con Hernán Coronel, cantante de Mala Fama, tras finalizar su show: besos y palabras de cariñoSeguinos:SeccionesAméricaColombiaEspañaMéxicoRSSPerúÚltimas NoticiasContáctenosContacto comercialMedia KitEmpleoLegalesTérminos y CondicionesPolítica de PrivacidadTodos Los Derechos Reservados © 2024 Infobae' metadata={'source': 'https://www.infobae.com/mascotas/2024/01/20/perros-vs-gatos-la-ciencia-demostro-que-animal-es-mas-inteligente/', 'title': 'Perros vs gatos: la ciencia demostró qué animal es más inteligente - Infobae', 'description': 'Investigadores de la Universidad Eotvos Loránd de Hungría, “enfrentaron” a ambas especies en una serie de pruebas para acabar con el debate', 'language': 'es', 'start_index': 8859}\n",
      "{'source': 'https://www.infobae.com/mascotas/2024/01/20/perros-vs-gatos-la-ciencia-demostro-que-animal-es-mas-inteligente/', 'title': 'Perros vs gatos: la ciencia demostró qué animal es más inteligente - Infobae', 'description': 'Investigadores de la Universidad Eotvos Loránd de Hungría, “enfrentaron” a ambas especies en una serie de pruebas para acabar con el debate', 'language': 'es', 'start_index': 8859}\n"
     ]
    }
   ],
   "source": [
    "from langchain_text_splitters import RecursiveCharacterTextSplitter\n",
    "\n",
    "text_splitter = RecursiveCharacterTextSplitter(\n",
    "    chunk_size=1000, chunk_overlap=200, add_start_index=True\n",
    ")\n",
    "all_splits = text_splitter.split_documents(docs)\n",
    "\n",
    "for split in all_splits:\n",
    "    print(split)\n",
    "    print(split.metadata)"
   ]
  },
  {
   "cell_type": "code",
   "execution_count": 35,
   "metadata": {},
   "outputs": [
    {
     "name": "stdout",
     "output_type": "stream",
     "text": [
      "13\n"
     ]
    }
   ],
   "source": [
    "from langchain_community.vectorstores import FAISS\n",
    "from langchain_openai import OpenAIEmbeddings\n",
    "\n",
    "embeddings = OpenAIEmbeddings()\n",
    "db = FAISS.from_documents(all_splits, embeddings)\n",
    "db.save_local(\"faiss_index\")\n",
    "print(db.index.ntotal)"
   ]
  },
  {
   "cell_type": "code",
   "execution_count": 44,
   "metadata": {},
   "outputs": [
    {
     "name": "stdout",
     "output_type": "stream",
     "text": [
      "Content: ante las señalizaciones era considerado como “sin elección”.¿Quién es más inteligente?Ambas especies son las más inteligentes en sus propios ámbitos gracias a diferentes adaptaciones y estímulos. (Imagen ilustrativa Infobae)En el laboratorio, todos los perros tomaron una decisión en al menos la mitad de las pruebas, mientras que 15 de 33 gatos hicieron lo mismo. En un ambiente hogareño, 14 de 19 felinos hicieron una elección.Tras repetir la prueba varias veces, los científicos llegaron a la conclusión de que la respuesta dependía de las oportunidades y necesidades de la especie, ya que ambas son la más inteligente en su propio ámbito.“Nuestros hallazgos proporcionan evidencia directa de que la capacidad de prueba de los perros es significativamente mejor en una prueba realizada en un ambiente de laboratorio que la de los gatos, incluso si los felinos pasaron por una habituación previa”, se lee en la publicación. Sin embargo, “los gatos parecen ser capaces de confiar en los gestos, Metadata: {'source': 'https://www.infobae.com/mascotas/2024/01/20/perros-vs-gatos-la-ciencia-demostro-que-animal-es-mas-inteligente/', 'title': 'Perros vs gatos: la ciencia demostró qué animal es más inteligente - Infobae', 'description': 'Investigadores de la Universidad Eotvos Loránd de Hungría, “enfrentaron” a ambas especies en una serie de pruebas para acabar con el debate', 'language': 'es', 'start_index': 4064}\n",
      "Content: de pruebas. (Imagen ilustrativa Infobae)El debate sobre si los gatos son más inteligentes que los perros existe desde hace mucho tiempo, los dueños exponen sus argumentos para defender a sus mascotas favoritas, sin embargo, éstos casi siempre carecen de una base científica sólida.Investigadores de la Universidad Eotvos Loránd de Hungría buscaron terminar con este “enfrentamiento” y compararon la inteligencia entre ambas especies en una serie de pruebas bajo las mismas condiciones.Las sorprendentes conclusiones revelaron que la respuesta para saber si son más inteligentes los perros o los gatos varía de acuerdo a sus necesidades, y que las herramientas con las que cuentan ambas especies hacen que cada una sea la más inteligente en su propio juego.Los motivos detrás de la inteligenciaEl estudio analizó la respuesta de los animales ante diferentes señalizaciones. (Imagen ilustrativa Infobae)El estudio realizado por Atila Salamón, Stefania Uccheddu, Melitta Csepregi, Ádám Miklósi y Marta, Metadata: {'source': 'https://www.infobae.com/mascotas/2024/01/20/perros-vs-gatos-la-ciencia-demostro-que-animal-es-mas-inteligente/', 'title': 'Perros vs gatos: la ciencia demostró qué animal es más inteligente - Infobae', 'description': 'Investigadores de la Universidad Eotvos Loránd de Hungría, “enfrentaron” a ambas especies en una serie de pruebas para acabar con el debate', 'language': 'es', 'start_index': 871}\n",
      "Content: 14 Nov, 2024Buscar en todo el sitioArgentinaColombiaEspañaMéxicoPerúEstados UnidosMundoVenezuelaThe economistThe Washington PostRealezaOpiniónÚltimas NoticiasEntretenimientoDeportesTendenciasTecnoCulturaMalditos NerdsViralesSaludPodcastsNewsletters;BienvenidoPor favor, ingresa a tu cuenta.REGISTRARMEINICIAR SESIÓNÚltimas NoticiasPolíticaEconomíaDólar hoyDeportesSociedadPolicialesNewslettersAnimales y MascotasPerros vs gatos: la ciencia demostró qué animal es más inteligenteInvestigadores de la Universidad Eotvos Loránd de Hungría, “enfrentaron” a ambas especies en una serie de pruebas para acabar con el debatePor  Luis A. Flores22 Ene, 2024 11:28 a.m. ESTGuardarInvestigadores de la Universidad Eotvos Loránd de Hungría buscaron terminar con este “enfrentamiento” realizando una serie de pruebas. (Imagen ilustrativa Infobae)El debate sobre si los gatos son más inteligentes que los perros existe desde hace mucho tiempo, los dueños exponen sus argumentos para defender a sus mascotas, Metadata: {'source': 'https://www.infobae.com/mascotas/2024/01/20/perros-vs-gatos-la-ciencia-demostro-que-animal-es-mas-inteligente/', 'title': 'Perros vs gatos: la ciencia demostró qué animal es más inteligente - Infobae', 'description': 'Investigadores de la Universidad Eotvos Loránd de Hungría, “enfrentaron” a ambas especies en una serie de pruebas para acabar con el debate', 'language': 'es', 'start_index': 78}\n"
     ]
    }
   ],
   "source": [
    "query = \"quienes son mas inteligentes los gatos o los perros?\"\n",
    "retriever = db.as_retriever()\n",
    "results = db.similarity_search(query, k=3)\n",
    "for doc in results:\n",
    "    print(f\"Content: {doc.page_content}, Metadata: {doc.metadata}\")"
   ]
  },
  {
   "cell_type": "code",
   "execution_count": 56,
   "metadata": {},
   "outputs": [
    {
     "name": "stdout",
     "output_type": "stream",
     "text": [
      "Usage:  {'input_tokens': 860, 'output_tokens': 165, 'total_tokens': 1025, 'input_token_details': {'audio': 0, 'cache_read': 0}, 'output_token_details': {'audio': 0, 'reasoning': 0}}\n"
     ]
    },
    {
     "data": {
      "text/markdown": [
       "La inteligencia de los gatos y los perros varía según sus adaptaciones y necesidades. Un estudio realizado por investigadores de la Universidad Eotvos Loránd de Hungría comparó la inteligencia de ambas especies en condiciones controladas. \n",
       "\n",
       "- **Resultados en el laboratorio**: Todos los perros tomaron decisiones en al menos la mitad de las pruebas, mientras que solo 15 de 33 gatos lo hicieron. \n",
       "- **Resultados en el hogar**: En un ambiente hogareño, 14 de 19 gatos tomaron decisiones.\n",
       "\n",
       "Los investigadores concluyeron que, aunque los perros demostraron una capacidad superior en pruebas de laboratorio, los gatos también tienen habilidades de confianza en gestos. Por lo tanto, cada especie es considerada la más inteligente en su propio ámbito, dependiendo de las herramientas y oportunidades disponibles para ellas."
      ],
      "text/plain": [
       "<IPython.core.display.Markdown object>"
      ]
     },
     "metadata": {},
     "output_type": "display_data"
    }
   ],
   "source": [
    "from langchain_openai import ChatOpenAI\n",
    "from IPython.display import Markdown, display\n",
    "\n",
    "llm = ChatOpenAI(model=\"gpt-4o-mini\")\n",
    "\n",
    "template = \"\"\"\n",
    "    You are an expert assistant. Use the provided context to answer questions as accurately, comprehensively, and concisely as possible. Make sure to support your answers with specific details whenever applicable.\n",
    "\n",
    "    # Guidelines for Responses:\n",
    "    - Ensure your response is directly supported by the provided context.\n",
    "    - Avoid adding information or making assumptions that are not directly verified by the context.\n",
    "    - Clearly articulate your reasoning where needed to make your answer understandable.\n",
    "    - Provide concise explanations and avoid including irrelevant information.\n",
    "\n",
    "    # Output Format\n",
    "    Your answers should be structured in a clear, straightforward manner, ideally in short paragraphs or bullet points for easy readability. \n",
    "\n",
    "    # Notes\n",
    "    - If a question cannot be answered based on the provided context, state that explicitly.\n",
    "    - Prioritize direct and precise language to maximize clarity.\n",
    "\n",
    "    # Context\n",
    "    {context}\n",
    "    \"\"\"\n",
    "input_variables = {\"context\": \"\\n\\n\".join([doc.page_content for doc in results])}\n",
    "prompt = template.format(**input_variables)\n",
    "\n",
    "messages = [(\"system\", prompt), (\"human\", query)]\n",
    "ai_msg = llm.invoke(messages)\n",
    "print(\"Usage: \",ai_msg.usage_metadata)\n",
    "display(Markdown(ai_msg.content))"
   ]
  },
  {
   "cell_type": "markdown",
   "metadata": {},
   "source": []
  }
 ],
 "metadata": {
  "kernelspec": {
   "display_name": "fun",
   "language": "python",
   "name": "python3"
  },
  "language_info": {
   "codemirror_mode": {
    "name": "ipython",
    "version": 3
   },
   "file_extension": ".py",
   "mimetype": "text/x-python",
   "name": "python",
   "nbconvert_exporter": "python",
   "pygments_lexer": "ipython3",
   "version": "3.12.7"
  }
 },
 "nbformat": 4,
 "nbformat_minor": 2
}
